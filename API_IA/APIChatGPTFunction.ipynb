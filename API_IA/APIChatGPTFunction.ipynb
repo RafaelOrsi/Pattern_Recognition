{
 "cells": [
  {
   "cell_type": "markdown",
   "id": "0d56190b",
   "metadata": {},
   "source": [
    "#### Função para usar ChatGPT"
   ]
  },
  {
   "cell_type": "code",
   "execution_count": 9,
   "id": "99d78070",
   "metadata": {},
   "outputs": [],
   "source": [
    "def chatGPT(API_KEY,id_chat,link_chat):\n",
    "    # Importar bibliotecas\n",
    "    import openai, requests, json\n",
    "    \n",
    "    # Configurar autenticador\n",
    "    headers={\"Authorization\": f\"Bearer {API_KEY}\", \"Content-Type\": \"application/json\"}\n",
    "    \n",
    "    # Configurar entrada\n",
    "    body_message = json.dumps({\"model\": id_chat, \"messages\": [{\"role\": \"user\", \"content\": input()}]})\n",
    "    \n",
    "    # Obter resposta do ChatGPT\n",
    "    return requests.post(link_chat, headers=headers, data = body_message).json()[\"choices\"][0][\"message\"][\"content\"]"
   ]
  },
  {
   "cell_type": "markdown",
   "id": "8ac5e4fa",
   "metadata": {},
   "source": [
    "#### Variáveis da função"
   ]
  },
  {
   "cell_type": "code",
   "execution_count": 2,
   "id": "cd2d952b",
   "metadata": {},
   "outputs": [],
   "source": [
    "API_KEY = \"copie sua chave aqui\"\n",
    "id_chat = \"gpt-4o\"\n",
    "link_chat = \"https://api.openai.com/v1/chat/completions\""
   ]
  },
  {
   "cell_type": "markdown",
   "id": "2b112973",
   "metadata": {},
   "source": [
    "#### Usando a função ChatGPT"
   ]
  },
  {
   "cell_type": "code",
   "execution_count": 11,
   "id": "412ed790",
   "metadata": {},
   "outputs": [
    {
     "name": "stdout",
     "output_type": "stream",
     "text": [
      "Explique, resumidamente, qual é a cor do sol?\n",
      "Embora muitas vezes percebido como amarelo ou laranja quando observado da Terra, principalmente devido à dispersão da luz na atmosfera, o Sol, na verdade, emite luz em um espectro que combina todas as cores visíveis. Quando essas cores são combinadas, elas produzem luz branca. Portanto, a cor real do Sol é essencialmente branca. Esta cor pode ser melhor observada do espaço, onde a luz do Sol não é dispersa pela atmosfera terrestre.\n"
     ]
    }
   ],
   "source": [
    "print(chatGPT(API_KEY,id_chat,link_chat))"
   ]
  }
 ],
 "metadata": {
  "kernelspec": {
   "display_name": "Python 3 (ipykernel)",
   "language": "python",
   "name": "python3"
  },
  "language_info": {
   "codemirror_mode": {
    "name": "ipython",
    "version": 3
   },
   "file_extension": ".py",
   "mimetype": "text/x-python",
   "name": "python",
   "nbconvert_exporter": "python",
   "pygments_lexer": "ipython3",
   "version": "3.12.4"
  }
 },
 "nbformat": 4,
 "nbformat_minor": 5
}
